{
  "nbformat": 4,
  "nbformat_minor": 0,
  "metadata": {
    "colab": {
      "provenance": [],
      "mount_file_id": "15WMlsxsnu1mkaCDMyP4tGjlGavrUE72z",
      "authorship_tag": "ABX9TyOcNTCwSywWqUeqxxYw2aQI",
      "include_colab_link": true
    },
    "kernelspec": {
      "name": "python3",
      "display_name": "Python 3"
    },
    "language_info": {
      "name": "python"
    }
  },
  "cells": [
    {
      "cell_type": "markdown",
      "metadata": {
        "id": "view-in-github",
        "colab_type": "text"
      },
      "source": [
        "<a href=\"https://colab.research.google.com/github/sofiammatias/tick-tick-bloom/blob/main/tick_tick_bloom.ipynb\" target=\"_parent\"><img src=\"https://colab.research.google.com/assets/colab-badge.svg\" alt=\"Open In Colab\"/></a>"
      ]
    },
    {
      "cell_type": "markdown",
      "source": [
        "# Tick Tick Bloom Challenge (Driven Data)\n",
        "The goal in this challenge is to use satellite imagery to detect and classify the severity of cyanobacteria blooms in small, inland water bodies. The resulting algorithm will help water quality managers better allocate resources for in situ sampling, and make more informed decisions around public health warnings for critical resources like drinking water reservoirs. Ultimately, more accurate and more timely detection of algal blooms helps keep both the human and marine life that rely on these water bodies safe and healthy."
      ],
      "metadata": {
        "id": "U9l6qB_D-lku"
      }
    },
    {
      "cell_type": "markdown",
      "source": [
        "## Imports"
      ],
      "metadata": {
        "id": "XtOqi3MS-8ux"
      }
    },
    {
      "cell_type": "code",
      "source": [
        "!pip install odc.stac\n",
        "!pip install geopandas"
      ],
      "metadata": {
        "colab": {
          "base_uri": "https://localhost:8080/"
        },
        "id": "ixCXxY_-_8Y3",
        "outputId": "b66f969a-532c-40a2-fcf3-f898c4f8ecc3"
      },
      "execution_count": 41,
      "outputs": [
        {
          "output_type": "stream",
          "name": "stdout",
          "text": [
            "Looking in indexes: https://pypi.org/simple, https://us-python.pkg.dev/colab-wheels/public/simple/\n",
            "Requirement already satisfied: odc.stac in /usr/local/lib/python3.8/dist-packages (0.3.5)\n",
            "Requirement already satisfied: dask[array] in /usr/local/lib/python3.8/dist-packages (from odc.stac) (2022.2.1)\n",
            "Requirement already satisfied: rasterio!=1.3.0,!=1.3.1,>=1.0.0 in /usr/local/lib/python3.8/dist-packages (from odc.stac) (1.3.5)\n",
            "Requirement already satisfied: odc-geo>=0.3.0 in /usr/local/lib/python3.8/dist-packages (from odc.stac) (0.3.3)\n",
            "Requirement already satisfied: toolz in /usr/local/lib/python3.8/dist-packages (from odc.stac) (0.12.0)\n",
            "Requirement already satisfied: xarray>=0.19 in /usr/local/lib/python3.8/dist-packages (from odc.stac) (2022.12.0)\n",
            "Requirement already satisfied: pystac<2,>=1.0.0 in /usr/local/lib/python3.8/dist-packages (from odc.stac) (1.6.1)\n",
            "Requirement already satisfied: affine in /usr/local/lib/python3.8/dist-packages (from odc.stac) (2.4.0)\n",
            "Requirement already satisfied: pandas in /usr/local/lib/python3.8/dist-packages (from odc.stac) (1.3.5)\n",
            "Requirement already satisfied: numpy>=1.20.0 in /usr/local/lib/python3.8/dist-packages (from odc.stac) (1.21.6)\n",
            "Requirement already satisfied: cachetools in /usr/local/lib/python3.8/dist-packages (from odc-geo>=0.3.0->odc.stac) (5.2.1)\n",
            "Requirement already satisfied: pyproj>=3.0.0 in /usr/local/lib/python3.8/dist-packages (from odc-geo>=0.3.0->odc.stac) (3.4.1)\n",
            "Requirement already satisfied: shapely in /usr/local/lib/python3.8/dist-packages (from odc-geo>=0.3.0->odc.stac) (2.0.0)\n",
            "Requirement already satisfied: python-dateutil>=2.7.0 in /usr/local/lib/python3.8/dist-packages (from pystac<2,>=1.0.0->odc.stac) (2.8.2)\n",
            "Requirement already satisfied: setuptools in /usr/local/lib/python3.8/dist-packages (from rasterio!=1.3.0,!=1.3.1,>=1.0.0->odc.stac) (57.4.0)\n",
            "Requirement already satisfied: click-plugins in /usr/local/lib/python3.8/dist-packages (from rasterio!=1.3.0,!=1.3.1,>=1.0.0->odc.stac) (1.1.1)\n",
            "Requirement already satisfied: snuggs>=1.4.1 in /usr/local/lib/python3.8/dist-packages (from rasterio!=1.3.0,!=1.3.1,>=1.0.0->odc.stac) (1.4.7)\n",
            "Requirement already satisfied: cligj>=0.5 in /usr/local/lib/python3.8/dist-packages (from rasterio!=1.3.0,!=1.3.1,>=1.0.0->odc.stac) (0.7.2)\n",
            "Requirement already satisfied: attrs in /usr/local/lib/python3.8/dist-packages (from rasterio!=1.3.0,!=1.3.1,>=1.0.0->odc.stac) (22.2.0)\n",
            "Requirement already satisfied: certifi in /usr/local/lib/python3.8/dist-packages (from rasterio!=1.3.0,!=1.3.1,>=1.0.0->odc.stac) (2022.12.7)\n",
            "Requirement already satisfied: click>=4.0 in /usr/local/lib/python3.8/dist-packages (from rasterio!=1.3.0,!=1.3.1,>=1.0.0->odc.stac) (7.1.2)\n",
            "Requirement already satisfied: packaging>=21.3 in /usr/local/lib/python3.8/dist-packages (from xarray>=0.19->odc.stac) (21.3)\n",
            "Requirement already satisfied: pytz>=2017.3 in /usr/local/lib/python3.8/dist-packages (from pandas->odc.stac) (2022.7)\n",
            "Requirement already satisfied: partd>=0.3.10 in /usr/local/lib/python3.8/dist-packages (from dask[array]->odc.stac) (1.3.0)\n",
            "Requirement already satisfied: cloudpickle>=1.1.1 in /usr/local/lib/python3.8/dist-packages (from dask[array]->odc.stac) (2.2.0)\n",
            "Requirement already satisfied: pyyaml>=5.3.1 in /usr/local/lib/python3.8/dist-packages (from dask[array]->odc.stac) (6.0)\n",
            "Requirement already satisfied: fsspec>=0.6.0 in /usr/local/lib/python3.8/dist-packages (from dask[array]->odc.stac) (2022.11.0)\n",
            "Requirement already satisfied: pyparsing!=3.0.5,>=2.0.2 in /usr/local/lib/python3.8/dist-packages (from packaging>=21.3->xarray>=0.19->odc.stac) (3.0.9)\n",
            "Requirement already satisfied: locket in /usr/local/lib/python3.8/dist-packages (from partd>=0.3.10->dask[array]->odc.stac) (1.0.0)\n",
            "Requirement already satisfied: six>=1.5 in /usr/local/lib/python3.8/dist-packages (from python-dateutil>=2.7.0->pystac<2,>=1.0.0->odc.stac) (1.15.0)\n",
            "Looking in indexes: https://pypi.org/simple, https://us-python.pkg.dev/colab-wheels/public/simple/\n",
            "Requirement already satisfied: geopandas in /usr/local/lib/python3.8/dist-packages (0.12.2)\n",
            "Requirement already satisfied: fiona>=1.8 in /usr/local/lib/python3.8/dist-packages (from geopandas) (1.8.22)\n",
            "Requirement already satisfied: pyproj>=2.6.1.post1 in /usr/local/lib/python3.8/dist-packages (from geopandas) (3.4.1)\n",
            "Requirement already satisfied: pandas>=1.0.0 in /usr/local/lib/python3.8/dist-packages (from geopandas) (1.3.5)\n",
            "Requirement already satisfied: shapely>=1.7 in /usr/local/lib/python3.8/dist-packages (from geopandas) (2.0.0)\n",
            "Requirement already satisfied: packaging in /usr/local/lib/python3.8/dist-packages (from geopandas) (21.3)\n",
            "Requirement already satisfied: attrs>=17 in /usr/local/lib/python3.8/dist-packages (from fiona>=1.8->geopandas) (22.2.0)\n",
            "Requirement already satisfied: six>=1.7 in /usr/local/lib/python3.8/dist-packages (from fiona>=1.8->geopandas) (1.15.0)\n",
            "Requirement already satisfied: setuptools in /usr/local/lib/python3.8/dist-packages (from fiona>=1.8->geopandas) (57.4.0)\n",
            "Requirement already satisfied: munch in /usr/local/lib/python3.8/dist-packages (from fiona>=1.8->geopandas) (2.5.0)\n",
            "Requirement already satisfied: click-plugins>=1.0 in /usr/local/lib/python3.8/dist-packages (from fiona>=1.8->geopandas) (1.1.1)\n",
            "Requirement already satisfied: certifi in /usr/local/lib/python3.8/dist-packages (from fiona>=1.8->geopandas) (2022.12.7)\n",
            "Requirement already satisfied: click>=4.0 in /usr/local/lib/python3.8/dist-packages (from fiona>=1.8->geopandas) (7.1.2)\n",
            "Requirement already satisfied: cligj>=0.5 in /usr/local/lib/python3.8/dist-packages (from fiona>=1.8->geopandas) (0.7.2)\n",
            "Requirement already satisfied: pytz>=2017.3 in /usr/local/lib/python3.8/dist-packages (from pandas>=1.0.0->geopandas) (2022.7)\n",
            "Requirement already satisfied: numpy>=1.17.3 in /usr/local/lib/python3.8/dist-packages (from pandas>=1.0.0->geopandas) (1.21.6)\n",
            "Requirement already satisfied: python-dateutil>=2.7.3 in /usr/local/lib/python3.8/dist-packages (from pandas>=1.0.0->geopandas) (2.8.2)\n",
            "Requirement already satisfied: pyparsing!=3.0.5,>=2.0.2 in /usr/local/lib/python3.8/dist-packages (from packaging->geopandas) (3.0.9)\n"
          ]
        }
      ]
    },
    {
      "cell_type": "code",
      "source": [
        "!pip install planetary_computer\n",
        "!pip install pystac_client"
      ],
      "metadata": {
        "colab": {
          "base_uri": "https://localhost:8080/"
        },
        "id": "miG6Vnu18LBW",
        "outputId": "c837d2ab-63d1-41a0-96ea-945df487574b"
      },
      "execution_count": 42,
      "outputs": [
        {
          "output_type": "stream",
          "name": "stdout",
          "text": [
            "Looking in indexes: https://pypi.org/simple, https://us-python.pkg.dev/colab-wheels/public/simple/\n",
            "Requirement already satisfied: planetary_computer in /usr/local/lib/python3.8/dist-packages (0.4.9)\n",
            "Requirement already satisfied: pystac>=1.0.0 in /usr/local/lib/python3.8/dist-packages (from planetary_computer) (1.6.1)\n",
            "Requirement already satisfied: pydantic[dotenv]>=1.7.3 in /usr/local/lib/python3.8/dist-packages (from planetary_computer) (1.10.4)\n",
            "Requirement already satisfied: pytz>=2020.5 in /usr/local/lib/python3.8/dist-packages (from planetary_computer) (2022.7)\n",
            "Requirement already satisfied: pystac-client>=0.2.0 in /usr/local/lib/python3.8/dist-packages (from planetary_computer) (0.6.0)\n",
            "Requirement already satisfied: requests>=2.25.1 in /usr/local/lib/python3.8/dist-packages (from planetary_computer) (2.28.2)\n",
            "Requirement already satisfied: click>=7.1 in /usr/local/lib/python3.8/dist-packages (from planetary_computer) (7.1.2)\n",
            "Requirement already satisfied: typing-extensions>=4.2.0 in /usr/local/lib/python3.8/dist-packages (from pydantic[dotenv]>=1.7.3->planetary_computer) (4.4.0)\n",
            "Requirement already satisfied: python-dotenv>=0.10.4 in /usr/local/lib/python3.8/dist-packages (from pydantic[dotenv]>=1.7.3->planetary_computer) (0.21.1)\n",
            "Requirement already satisfied: python-dateutil>=2.7.0 in /usr/local/lib/python3.8/dist-packages (from pystac>=1.0.0->planetary_computer) (2.8.2)\n",
            "Requirement already satisfied: urllib3<1.27,>=1.21.1 in /usr/local/lib/python3.8/dist-packages (from requests>=2.25.1->planetary_computer) (1.24.3)\n",
            "Requirement already satisfied: certifi>=2017.4.17 in /usr/local/lib/python3.8/dist-packages (from requests>=2.25.1->planetary_computer) (2022.12.7)\n",
            "Requirement already satisfied: charset-normalizer<4,>=2 in /usr/local/lib/python3.8/dist-packages (from requests>=2.25.1->planetary_computer) (2.1.1)\n",
            "Requirement already satisfied: idna<4,>=2.5 in /usr/local/lib/python3.8/dist-packages (from requests>=2.25.1->planetary_computer) (2.10)\n",
            "Requirement already satisfied: six>=1.5 in /usr/local/lib/python3.8/dist-packages (from python-dateutil>=2.7.0->pystac>=1.0.0->planetary_computer) (1.15.0)\n",
            "Looking in indexes: https://pypi.org/simple, https://us-python.pkg.dev/colab-wheels/public/simple/\n",
            "Requirement already satisfied: pystac_client in /usr/local/lib/python3.8/dist-packages (0.6.0)\n",
            "Requirement already satisfied: python-dateutil>=2.7.0 in /usr/local/lib/python3.8/dist-packages (from pystac_client) (2.8.2)\n",
            "Requirement already satisfied: pystac>=1.4.0 in /usr/local/lib/python3.8/dist-packages (from pystac_client) (1.6.1)\n",
            "Requirement already satisfied: requests>=2.27.1 in /usr/local/lib/python3.8/dist-packages (from pystac_client) (2.28.2)\n",
            "Requirement already satisfied: six>=1.5 in /usr/local/lib/python3.8/dist-packages (from python-dateutil>=2.7.0->pystac_client) (1.15.0)\n",
            "Requirement already satisfied: charset-normalizer<4,>=2 in /usr/local/lib/python3.8/dist-packages (from requests>=2.27.1->pystac_client) (2.1.1)\n",
            "Requirement already satisfied: certifi>=2017.4.17 in /usr/local/lib/python3.8/dist-packages (from requests>=2.27.1->pystac_client) (2022.12.7)\n",
            "Requirement already satisfied: idna<4,>=2.5 in /usr/local/lib/python3.8/dist-packages (from requests>=2.27.1->pystac_client) (2.10)\n",
            "Requirement already satisfied: urllib3<1.27,>=1.21.1 in /usr/local/lib/python3.8/dist-packages (from requests>=2.27.1->pystac_client) (1.24.3)\n"
          ]
        }
      ]
    },
    {
      "cell_type": "code",
      "source": [
        "!pip install rioxarray"
      ],
      "metadata": {
        "colab": {
          "base_uri": "https://localhost:8080/"
        },
        "id": "WeUiJwV7js5Y",
        "outputId": "b8aee3dc-ee4d-4f63-c117-920fe6183104"
      },
      "execution_count": 77,
      "outputs": [
        {
          "output_type": "stream",
          "name": "stdout",
          "text": [
            "Looking in indexes: https://pypi.org/simple, https://us-python.pkg.dev/colab-wheels/public/simple/\n",
            "Collecting rioxarray\n",
            "  Downloading rioxarray-0.13.3-py3-none-any.whl (53 kB)\n",
            "\u001b[2K     \u001b[90m━━━━━━━━━━━━━━━━━━━━━━━━━━━━━━━━━━━━━━━━\u001b[0m \u001b[32m53.3/53.3 KB\u001b[0m \u001b[31m2.2 MB/s\u001b[0m eta \u001b[36m0:00:00\u001b[0m\n",
            "\u001b[?25hRequirement already satisfied: pyproj>=2.2 in /usr/local/lib/python3.8/dist-packages (from rioxarray) (3.4.1)\n",
            "Requirement already satisfied: xarray>=0.17 in /usr/local/lib/python3.8/dist-packages (from rioxarray) (2022.12.0)\n",
            "Requirement already satisfied: packaging in /usr/local/lib/python3.8/dist-packages (from rioxarray) (21.3)\n",
            "Requirement already satisfied: rasterio>=1.1.1 in /usr/local/lib/python3.8/dist-packages (from rioxarray) (1.3.5)\n",
            "Requirement already satisfied: certifi in /usr/local/lib/python3.8/dist-packages (from pyproj>=2.2->rioxarray) (2022.12.7)\n",
            "Requirement already satisfied: attrs in /usr/local/lib/python3.8/dist-packages (from rasterio>=1.1.1->rioxarray) (22.2.0)\n",
            "Requirement already satisfied: click>=4.0 in /usr/local/lib/python3.8/dist-packages (from rasterio>=1.1.1->rioxarray) (7.1.2)\n",
            "Requirement already satisfied: cligj>=0.5 in /usr/local/lib/python3.8/dist-packages (from rasterio>=1.1.1->rioxarray) (0.7.2)\n",
            "Requirement already satisfied: click-plugins in /usr/local/lib/python3.8/dist-packages (from rasterio>=1.1.1->rioxarray) (1.1.1)\n",
            "Requirement already satisfied: affine in /usr/local/lib/python3.8/dist-packages (from rasterio>=1.1.1->rioxarray) (2.4.0)\n",
            "Requirement already satisfied: numpy>=1.18 in /usr/local/lib/python3.8/dist-packages (from rasterio>=1.1.1->rioxarray) (1.21.6)\n",
            "Requirement already satisfied: setuptools in /usr/local/lib/python3.8/dist-packages (from rasterio>=1.1.1->rioxarray) (57.4.0)\n",
            "Requirement already satisfied: snuggs>=1.4.1 in /usr/local/lib/python3.8/dist-packages (from rasterio>=1.1.1->rioxarray) (1.4.7)\n",
            "Requirement already satisfied: pandas>=1.3 in /usr/local/lib/python3.8/dist-packages (from xarray>=0.17->rioxarray) (1.3.5)\n",
            "Requirement already satisfied: pyparsing!=3.0.5,>=2.0.2 in /usr/local/lib/python3.8/dist-packages (from packaging->rioxarray) (3.0.9)\n",
            "Requirement already satisfied: python-dateutil>=2.7.3 in /usr/local/lib/python3.8/dist-packages (from pandas>=1.3->xarray>=0.17->rioxarray) (2.8.2)\n",
            "Requirement already satisfied: pytz>=2017.3 in /usr/local/lib/python3.8/dist-packages (from pandas>=1.3->xarray>=0.17->rioxarray) (2022.7)\n",
            "Requirement already satisfied: six>=1.5 in /usr/local/lib/python3.8/dist-packages (from python-dateutil>=2.7.3->pandas>=1.3->xarray>=0.17->rioxarray) (1.15.0)\n",
            "Installing collected packages: rioxarray\n",
            "Successfully installed rioxarray-0.13.3\n"
          ]
        }
      ]
    },
    {
      "cell_type": "code",
      "execution_count": 43,
      "metadata": {
        "id": "RZTEo4uX-TM_",
        "colab": {
          "base_uri": "https://localhost:8080/"
        },
        "outputId": "de39e60e-7fa4-4211-b47f-f142acec5bfd"
      },
      "outputs": [
        {
          "output_type": "stream",
          "name": "stdout",
          "text": [
            "The autoreload extension is already loaded. To reload it, use:\n",
            "  %reload_ext autoreload\n"
          ]
        }
      ],
      "source": [
        "%load_ext autoreload\n",
        "%autoreload 2"
      ]
    },
    {
      "cell_type": "code",
      "source": [
        "import cv2\n",
        "import os\n",
        "from datetime import timedelta\n",
        "import matplotlib.pyplot as plt\n",
        "import numpy as np\n",
        "import odc.stac\n",
        "import pandas as pd\n",
        "from pathlib import Path\n",
        "from sklearn.metrics import mean_squared_error\n",
        "from sklearn.preprocessing import StandardScaler\n",
        "from tqdm import tqdm\n",
        "import geopandas as gpd\n",
        "from shapely.geometry import Point\n",
        "\n",
        "%matplotlib inline"
      ],
      "metadata": {
        "id": "2c5Jkbrz-7Ua"
      },
      "execution_count": 44,
      "outputs": []
    },
    {
      "cell_type": "code",
      "source": [
        "# mount Google Drive\n",
        "from google.colab import drive\n",
        "drive.mount('/content/drive')"
      ],
      "metadata": {
        "colab": {
          "base_uri": "https://localhost:8080/"
        },
        "id": "IDSOlrq9efic",
        "outputId": "53137cae-8bd9-424d-df9c-9b3524a31266"
      },
      "execution_count": 45,
      "outputs": [
        {
          "output_type": "stream",
          "name": "stdout",
          "text": [
            "Drive already mounted at /content/drive; to attempt to forcibly remount, call drive.mount(\"/content/drive\", force_remount=True).\n"
          ]
        }
      ]
    },
    {
      "cell_type": "markdown",
      "source": [
        "# Data: Collection and EDA"
      ],
      "metadata": {
        "id": "0vOdXkVS_XmA"
      }
    },
    {
      "cell_type": "code",
      "source": [
        "data_path = \"/content/data/final/public\"\n",
        "DATA_DIR = Path.cwd().parent.resolve() / data_path\n",
        "if not (DATA_DIR.exists()):\n",
        "  os.makedirs(data_path)\n",
        "metadata_file = '/content/drive/MyDrive/Colab Notebooks/tick-tick-bloom/metadata.csv'\n",
        "metadata = pd.read_csv(metadata_file)"
      ],
      "metadata": {
        "id": "Ho17ffF7BJLy"
      },
      "execution_count": 46,
      "outputs": []
    },
    {
      "cell_type": "markdown",
      "source": [
        "## Metadata.csv"
      ],
      "metadata": {
        "id": "N-ophUM1S7o2"
      }
    },
    {
      "cell_type": "markdown",
      "source": [
        "### Location"
      ],
      "metadata": {
        "id": "MpA2lEDfEwEn"
      }
    },
    {
      "cell_type": "code",
      "source": [
        "display(metadata.head())\n",
        "metadata.split.value_counts(dropna=False)"
      ],
      "metadata": {
        "colab": {
          "base_uri": "https://localhost:8080/",
          "height": 258
        },
        "id": "4YNcTs46DoMz",
        "outputId": "76175590-fb20-428d-807a-561fccb6d60d"
      },
      "execution_count": 47,
      "outputs": [
        {
          "output_type": "display_data",
          "data": {
            "text/plain": [
              "    uid   latitude   longitude        date  split\n",
              "0  aabm  39.080319  -86.430867  2018-05-14  train\n",
              "1  aabn  36.559700 -121.510000  2016-08-31   test\n",
              "2  aacd  35.875083  -78.878434  2020-11-19  train\n",
              "3  aaee  35.487000  -79.062133  2016-08-24  train\n",
              "4  aaff  38.049471  -99.827001  2019-07-23  train"
            ],
            "text/html": [
              "\n",
              "  <div id=\"df-a78cbee6-f223-47c7-9edb-1192ece7a4ff\">\n",
              "    <div class=\"colab-df-container\">\n",
              "      <div>\n",
              "<style scoped>\n",
              "    .dataframe tbody tr th:only-of-type {\n",
              "        vertical-align: middle;\n",
              "    }\n",
              "\n",
              "    .dataframe tbody tr th {\n",
              "        vertical-align: top;\n",
              "    }\n",
              "\n",
              "    .dataframe thead th {\n",
              "        text-align: right;\n",
              "    }\n",
              "</style>\n",
              "<table border=\"1\" class=\"dataframe\">\n",
              "  <thead>\n",
              "    <tr style=\"text-align: right;\">\n",
              "      <th></th>\n",
              "      <th>uid</th>\n",
              "      <th>latitude</th>\n",
              "      <th>longitude</th>\n",
              "      <th>date</th>\n",
              "      <th>split</th>\n",
              "    </tr>\n",
              "  </thead>\n",
              "  <tbody>\n",
              "    <tr>\n",
              "      <th>0</th>\n",
              "      <td>aabm</td>\n",
              "      <td>39.080319</td>\n",
              "      <td>-86.430867</td>\n",
              "      <td>2018-05-14</td>\n",
              "      <td>train</td>\n",
              "    </tr>\n",
              "    <tr>\n",
              "      <th>1</th>\n",
              "      <td>aabn</td>\n",
              "      <td>36.559700</td>\n",
              "      <td>-121.510000</td>\n",
              "      <td>2016-08-31</td>\n",
              "      <td>test</td>\n",
              "    </tr>\n",
              "    <tr>\n",
              "      <th>2</th>\n",
              "      <td>aacd</td>\n",
              "      <td>35.875083</td>\n",
              "      <td>-78.878434</td>\n",
              "      <td>2020-11-19</td>\n",
              "      <td>train</td>\n",
              "    </tr>\n",
              "    <tr>\n",
              "      <th>3</th>\n",
              "      <td>aaee</td>\n",
              "      <td>35.487000</td>\n",
              "      <td>-79.062133</td>\n",
              "      <td>2016-08-24</td>\n",
              "      <td>train</td>\n",
              "    </tr>\n",
              "    <tr>\n",
              "      <th>4</th>\n",
              "      <td>aaff</td>\n",
              "      <td>38.049471</td>\n",
              "      <td>-99.827001</td>\n",
              "      <td>2019-07-23</td>\n",
              "      <td>train</td>\n",
              "    </tr>\n",
              "  </tbody>\n",
              "</table>\n",
              "</div>\n",
              "      <button class=\"colab-df-convert\" onclick=\"convertToInteractive('df-a78cbee6-f223-47c7-9edb-1192ece7a4ff')\"\n",
              "              title=\"Convert this dataframe to an interactive table.\"\n",
              "              style=\"display:none;\">\n",
              "        \n",
              "  <svg xmlns=\"http://www.w3.org/2000/svg\" height=\"24px\"viewBox=\"0 0 24 24\"\n",
              "       width=\"24px\">\n",
              "    <path d=\"M0 0h24v24H0V0z\" fill=\"none\"/>\n",
              "    <path d=\"M18.56 5.44l.94 2.06.94-2.06 2.06-.94-2.06-.94-.94-2.06-.94 2.06-2.06.94zm-11 1L8.5 8.5l.94-2.06 2.06-.94-2.06-.94L8.5 2.5l-.94 2.06-2.06.94zm10 10l.94 2.06.94-2.06 2.06-.94-2.06-.94-.94-2.06-.94 2.06-2.06.94z\"/><path d=\"M17.41 7.96l-1.37-1.37c-.4-.4-.92-.59-1.43-.59-.52 0-1.04.2-1.43.59L10.3 9.45l-7.72 7.72c-.78.78-.78 2.05 0 2.83L4 21.41c.39.39.9.59 1.41.59.51 0 1.02-.2 1.41-.59l7.78-7.78 2.81-2.81c.8-.78.8-2.07 0-2.86zM5.41 20L4 18.59l7.72-7.72 1.47 1.35L5.41 20z\"/>\n",
              "  </svg>\n",
              "      </button>\n",
              "      \n",
              "  <style>\n",
              "    .colab-df-container {\n",
              "      display:flex;\n",
              "      flex-wrap:wrap;\n",
              "      gap: 12px;\n",
              "    }\n",
              "\n",
              "    .colab-df-convert {\n",
              "      background-color: #E8F0FE;\n",
              "      border: none;\n",
              "      border-radius: 50%;\n",
              "      cursor: pointer;\n",
              "      display: none;\n",
              "      fill: #1967D2;\n",
              "      height: 32px;\n",
              "      padding: 0 0 0 0;\n",
              "      width: 32px;\n",
              "    }\n",
              "\n",
              "    .colab-df-convert:hover {\n",
              "      background-color: #E2EBFA;\n",
              "      box-shadow: 0px 1px 2px rgba(60, 64, 67, 0.3), 0px 1px 3px 1px rgba(60, 64, 67, 0.15);\n",
              "      fill: #174EA6;\n",
              "    }\n",
              "\n",
              "    [theme=dark] .colab-df-convert {\n",
              "      background-color: #3B4455;\n",
              "      fill: #D2E3FC;\n",
              "    }\n",
              "\n",
              "    [theme=dark] .colab-df-convert:hover {\n",
              "      background-color: #434B5C;\n",
              "      box-shadow: 0px 1px 3px 1px rgba(0, 0, 0, 0.15);\n",
              "      filter: drop-shadow(0px 1px 2px rgba(0, 0, 0, 0.3));\n",
              "      fill: #FFFFFF;\n",
              "    }\n",
              "  </style>\n",
              "\n",
              "      <script>\n",
              "        const buttonEl =\n",
              "          document.querySelector('#df-a78cbee6-f223-47c7-9edb-1192ece7a4ff button.colab-df-convert');\n",
              "        buttonEl.style.display =\n",
              "          google.colab.kernel.accessAllowed ? 'block' : 'none';\n",
              "\n",
              "        async function convertToInteractive(key) {\n",
              "          const element = document.querySelector('#df-a78cbee6-f223-47c7-9edb-1192ece7a4ff');\n",
              "          const dataTable =\n",
              "            await google.colab.kernel.invokeFunction('convertToInteractive',\n",
              "                                                     [key], {});\n",
              "          if (!dataTable) return;\n",
              "\n",
              "          const docLinkHtml = 'Like what you see? Visit the ' +\n",
              "            '<a target=\"_blank\" href=https://colab.research.google.com/notebooks/data_table.ipynb>data table notebook</a>'\n",
              "            + ' to learn more about interactive tables.';\n",
              "          element.innerHTML = '';\n",
              "          dataTable['output_type'] = 'display_data';\n",
              "          await google.colab.output.renderOutput(dataTable, element);\n",
              "          const docLink = document.createElement('div');\n",
              "          docLink.innerHTML = docLinkHtml;\n",
              "          element.appendChild(docLink);\n",
              "        }\n",
              "      </script>\n",
              "    </div>\n",
              "  </div>\n",
              "  "
            ]
          },
          "metadata": {}
        },
        {
          "output_type": "execute_result",
          "data": {
            "text/plain": [
              "train    17060\n",
              "test      6510\n",
              "Name: split, dtype: int64"
            ]
          },
          "metadata": {},
          "execution_count": 47
        }
      ]
    },
    {
      "cell_type": "code",
      "source": [
        "# load the default geopandas base map file to plot points on\n",
        "world = gpd.read_file(gpd.datasets.get_path(\"naturalearth_lowres\"))\n",
        "\n",
        "fig, ax = plt.subplots(figsize=(15, 6))\n",
        "\n",
        "# map the training data\n",
        "base = world[world.name == \"United States of America\"].plot(\n",
        "    edgecolor=\"gray\", color=\"ghostwhite\", figsize=(9, 4), alpha=0.3, ax=ax\n",
        ")\n",
        "train_meta = metadata[metadata[\"split\"] == \"train\"]\n",
        "geometry = [Point(xy) for xy in zip(train_meta[\"longitude\"], train_meta[\"latitude\"])]\n",
        "gdf = gpd.GeoDataFrame(train_meta, geometry=geometry)\n",
        "gdf.plot(ax=base, marker=\".\", markersize=3, color=\"blue\", label=\"Train\", alpha=0.6)\n",
        "\n",
        "# map the test data\n",
        "test_meta = metadata[metadata[\"split\"] == \"test\"]\n",
        "geometry = [Point(xy) for xy in zip(test_meta[\"longitude\"], test_meta[\"latitude\"])]\n",
        "gdf = gpd.GeoDataFrame(test_meta, geometry=geometry)\n",
        "gdf.plot(ax=base, marker=\".\", markersize=3, color=\"orange\", label=\"Test\", alpha=0.6)\n",
        "\n",
        "plt.xlabel(\"Longitude\")\n",
        "plt.ylabel(\"Latitude\")\n",
        "plt.xlim([-125, -65])\n",
        "plt.ylim([25, 50])\n",
        "plt.legend(loc=4, markerscale=3)"
      ],
      "metadata": {
        "colab": {
          "base_uri": "https://localhost:8080/",
          "height": 409
        },
        "id": "nBQ0TJMvDvkq",
        "outputId": "b76396b7-b4f2-4f9e-f0cb-8fc208e64c77"
      },
      "execution_count": 48,
      "outputs": [
        {
          "output_type": "execute_result",
          "data": {
            "text/plain": [
              "<matplotlib.legend.Legend at 0x7f7deafd7340>"
            ]
          },
          "metadata": {},
          "execution_count": 48
        },
        {
          "output_type": "display_data",
          "data": {
            "text/plain": [
              "<Figure size 1080x432 with 1 Axes>"
            ],
            "image/png": "[encoded data removed]"
          },
          "metadata": {
            "needs_background": "light"
          }
        }
      ]
    },
    {
      "cell_type": "markdown",
      "source": [
        "### Date"
      ],
      "metadata": {
        "id": "fjGGk9rGEzUn"
      }
    },
    {
      "cell_type": "code",
      "source": [
        "# convert date to pd.datetime\n",
        "metadata.date = pd.to_datetime(metadata.date)\n",
        "\n",
        "# what is the date range?\n",
        "display (metadata.groupby(\"split\").agg(min_date=(\"date\", min), max_date=(\"date\", max)))\n",
        "\n",
        "# what years are in the data?\n",
        "pd.crosstab(metadata.date.dt.year, metadata.split).plot(kind=\"bar\")\n",
        "plt.ylabel(\"Number of samples\")\n",
        "plt.xlabel(\"Year\")\n",
        "plt.title(\"Distribution of years in the data\")\n",
        "plt.show()"
      ],
      "metadata": {
        "colab": {
          "base_uri": "https://localhost:8080/",
          "height": 437
        },
        "id": "fECfhyT-Ea52",
        "outputId": "7fb033d7-ef59-4c5e-b244-5a6dcaa34868"
      },
      "execution_count": 49,
      "outputs": [
        {
          "output_type": "display_data",
          "data": {
            "text/plain": [
              "        min_date   max_date\n",
              "split                      \n",
              "test  2013-01-08 2021-12-29\n",
              "train 2013-01-04 2021-12-14"
            ],
            "text/html": [
              "\n",
              "  <div id=\"df-53d21dfb-fbcb-4580-b599-4a168d99a42a\">\n",
              "    <div class=\"colab-df-container\">\n",
              "      <div>\n",
              "<style scoped>\n",
              "    .dataframe tbody tr th:only-of-type {\n",
              "        vertical-align: middle;\n",
              "    }\n",
              "\n",
              "    .dataframe tbody tr th {\n",
              "        vertical-align: top;\n",
              "    }\n",
              "\n",
              "    .dataframe thead th {\n",
              "        text-align: right;\n",
              "    }\n",
              "</style>\n",
              "<table border=\"1\" class=\"dataframe\">\n",
              "  <thead>\n",
              "    <tr style=\"text-align: right;\">\n",
              "      <th></th>\n",
              "      <th>min_date</th>\n",
              "      <th>max_date</th>\n",
              "    </tr>\n",
              "    <tr>\n",
              "      <th>split</th>\n",
              "      <th></th>\n",
              "      <th></th>\n",
              "    </tr>\n",
              "  </thead>\n",
              "  <tbody>\n",
              "    <tr>\n",
              "      <th>test</th>\n",
              "      <td>2013-01-08</td>\n",
              "      <td>2021-12-29</td>\n",
              "    </tr>\n",
              "    <tr>\n",
              "      <th>train</th>\n",
              "      <td>2013-01-04</td>\n",
              "      <td>2021-12-14</td>\n",
              "    </tr>\n",
              "  </tbody>\n",
              "</table>\n",
              "</div>\n",
              "      <button class=\"colab-df-convert\" onclick=\"convertToInteractive('df-53d21dfb-fbcb-4580-b599-4a168d99a42a')\"\n",
              "              title=\"Convert this dataframe to an interactive table.\"\n",
              "              style=\"display:none;\">\n",
              "        \n",
              "  <svg xmlns=\"http://www.w3.org/2000/svg\" height=\"24px\"viewBox=\"0 0 24 24\"\n",
              "       width=\"24px\">\n",
              "    <path d=\"M0 0h24v24H0V0z\" fill=\"none\"/>\n",
              "    <path d=\"M18.56 5.44l.94 2.06.94-2.06 2.06-.94-2.06-.94-.94-2.06-.94 2.06-2.06.94zm-11 1L8.5 8.5l.94-2.06 2.06-.94-2.06-.94L8.5 2.5l-.94 2.06-2.06.94zm10 10l.94 2.06.94-2.06 2.06-.94-2.06-.94-.94-2.06-.94 2.06-2.06.94z\"/><path d=\"M17.41 7.96l-1.37-1.37c-.4-.4-.92-.59-1.43-.59-.52 0-1.04.2-1.43.59L10.3 9.45l-7.72 7.72c-.78.78-.78 2.05 0 2.83L4 21.41c.39.39.9.59 1.41.59.51 0 1.02-.2 1.41-.59l7.78-7.78 2.81-2.81c.8-.78.8-2.07 0-2.86zM5.41 20L4 18.59l7.72-7.72 1.47 1.35L5.41 20z\"/>\n",
              "  </svg>\n",
              "      </button>\n",
              "      \n",
              "  <style>\n",
              "    .colab-df-container {\n",
              "      display:flex;\n",
              "      flex-wrap:wrap;\n",
              "      gap: 12px;\n",
              "    }\n",
              "\n",
              "    .colab-df-convert {\n",
              "      background-color: #E8F0FE;\n",
              "      border: none;\n",
              "      border-radius: 50%;\n",
              "      cursor: pointer;\n",
              "      display: none;\n",
              "      fill: #1967D2;\n",
              "      height: 32px;\n",
              "      padding: 0 0 0 0;\n",
              "      width: 32px;\n",
              "    }\n",
              "\n",
              "    .colab-df-convert:hover {\n",
              "      background-color: #E2EBFA;\n",
              "      box-shadow: 0px 1px 2px rgba(60, 64, 67, 0.3), 0px 1px 3px 1px rgba(60, 64, 67, 0.15);\n",
              "      fill: #174EA6;\n",
              "    }\n",
              "\n",
              "    [theme=dark] .colab-df-convert {\n",
              "      background-color: #3B4455;\n",
              "      fill: #D2E3FC;\n",
              "    }\n",
              "\n",
              "    [theme=dark] .colab-df-convert:hover {\n",
              "      background-color: #434B5C;\n",
              "      box-shadow: 0px 1px 3px 1px rgba(0, 0, 0, 0.15);\n",
              "      filter: drop-shadow(0px 1px 2px rgba(0, 0, 0, 0.3));\n",
              "      fill: #FFFFFF;\n",
              "    }\n",
              "  </style>\n",
              "\n",
              "      <script>\n",
              "        const buttonEl =\n",
              "          document.querySelector('#df-53d21dfb-fbcb-4580-b599-4a168d99a42a button.colab-df-convert');\n",
              "        buttonEl.style.display =\n",
              "          google.colab.kernel.accessAllowed ? 'block' : 'none';\n",
              "\n",
              "        async function convertToInteractive(key) {\n",
              "          const element = document.querySelector('#df-53d21dfb-fbcb-4580-b599-4a168d99a42a');\n",
              "          const dataTable =\n",
              "            await google.colab.kernel.invokeFunction('convertToInteractive',\n",
              "                                                     [key], {});\n",
              "          if (!dataTable) return;\n",
              "\n",
              "          const docLinkHtml = 'Like what you see? Visit the ' +\n",
              "            '<a target=\"_blank\" href=https://colab.research.google.com/notebooks/data_table.ipynb>data table notebook</a>'\n",
              "            + ' to learn more about interactive tables.';\n",
              "          element.innerHTML = '';\n",
              "          dataTable['output_type'] = 'display_data';\n",
              "          await google.colab.output.renderOutput(dataTable, element);\n",
              "          const docLink = document.createElement('div');\n",
              "          docLink.innerHTML = docLinkHtml;\n",
              "          element.appendChild(docLink);\n",
              "        }\n",
              "      </script>\n",
              "    </div>\n",
              "  </div>\n",
              "  "
            ]
          },
          "metadata": {}
        },
        {
          "output_type": "display_data",
          "data": {
            "text/plain": [
              "<Figure size 432x288 with 1 Axes>"
            ],
            "image/png": "[encoded data removed]"
          },
          "metadata": {
            "needs_background": "light"
          }
        }
      ]
    },
    {
      "cell_type": "code",
      "source": [
        "# what seasons are the data points from?\n",
        "metadata[\"season\"] = (\n",
        "    metadata.date.dt.month.replace([12, 1, 2], \"winter\")\n",
        "    .replace([3, 4, 5], \"spring\")\n",
        "    .replace([6, 7, 8], \"summer\")\n",
        "    .replace([9, 10, 11], \"fall\")\n",
        ")\n",
        "print ('Seasons')\n",
        "display(metadata.season.value_counts())\n",
        "\n",
        "# where is data from for each season?\n",
        "fig, axes = plt.subplots(2, 2, figsize=(20, 10))\n",
        "\n",
        "for season, ax in zip(metadata.season.unique(), axes.flatten()):\n",
        "    base = world[world.name == \"United States of America\"].plot(\n",
        "        edgecolor=\"gray\", color=\"ghostwhite\", alpha=0.3, ax=ax\n",
        "    )\n",
        "\n",
        "    sub = metadata[metadata.season == season]\n",
        "    geometry = [Point(xy) for xy in zip(sub[\"longitude\"], sub[\"latitude\"])]\n",
        "    gdf = gpd.GeoDataFrame(sub, geometry=geometry)\n",
        "    gdf.plot(ax=base, marker=\".\", markersize=2.5)\n",
        "    ax.set_xlim([-125, -66])\n",
        "    ax.set_ylim([25, 50])\n",
        "    ax.set_title(f\"{season.capitalize()} data points\")\n",
        "    ax.axis(\"off\")"
      ],
      "metadata": {
        "colab": {
          "base_uri": "https://localhost:8080/",
          "height": 662
        },
        "id": "ogwdzvTDFbue",
        "outputId": "6c3d65fd-3dae-4b72-db64-f4af246de934"
      },
      "execution_count": 50,
      "outputs": [
        {
          "output_type": "stream",
          "name": "stdout",
          "text": [
            "Seasons\n"
          ]
        },
        {
          "output_type": "display_data",
          "data": {
            "text/plain": [
              "summer    10813\n",
              "spring     5045\n",
              "fall       4758\n",
              "winter     2954\n",
              "Name: season, dtype: int64"
            ]
          },
          "metadata": {}
        },
        {
          "output_type": "display_data",
          "data": {
            "text/plain": [
              "<Figure size 1440x720 with 4 Axes>"
            ],
            "image/png": "[encoded data removed]"
          },
          "metadata": {
            "needs_background": "light"
          }
        }
      ]
    },
    {
      "cell_type": "markdown",
      "source": [
        "## Train Labels.csv"
      ],
      "metadata": {
        "id": "yleDRsATSzqZ"
      }
    },
    {
      "cell_type": "code",
      "source": [
        "data_path = \"/content/data/final/public\"\n",
        "DATA_DIR = Path.cwd().parent.resolve() / data_path\n",
        "if not (DATA_DIR.exists()):\n",
        "  os.makedirs(data_path)\n",
        "train_labels_file = '/content/drive/MyDrive/Colab Notebooks/tick-tick-bloom/train_labels.csv'\n",
        "train_labels = pd.read_csv(train_labels_file)"
      ],
      "metadata": {
        "id": "cxNT05dpLJ3_"
      },
      "execution_count": 51,
      "outputs": []
    },
    {
      "cell_type": "code",
      "source": [
        "display(train_labels.head())\n",
        "train_labels.shape"
      ],
      "metadata": {
        "colab": {
          "base_uri": "https://localhost:8080/",
          "height": 223
        },
        "id": "EbQ646QkSyjC",
        "outputId": "21a36c1b-7017-44ad-973d-7ef306750df7"
      },
      "execution_count": 52,
      "outputs": [
        {
          "output_type": "display_data",
          "data": {
            "text/plain": [
              "    uid   region  severity    density\n",
              "0  aabm  midwest         1      585.0\n",
              "1  aacd    south         1      290.0\n",
              "2  aaee    south         1     1614.0\n",
              "3  aaff  midwest         3   111825.0\n",
              "4  aafl  midwest         4  2017313.0"
            ],
            "text/html": [
              "\n",
              "  <div id=\"df-401793f7-0c92-4abf-a5dc-cb8846124437\">\n",
              "    <div class=\"colab-df-container\">\n",
              "      <div>\n",
              "<style scoped>\n",
              "    .dataframe tbody tr th:only-of-type {\n",
              "        vertical-align: middle;\n",
              "    }\n",
              "\n",
              "    .dataframe tbody tr th {\n",
              "        vertical-align: top;\n",
              "    }\n",
              "\n",
              "    .dataframe thead th {\n",
              "        text-align: right;\n",
              "    }\n",
              "</style>\n",
              "<table border=\"1\" class=\"dataframe\">\n",
              "  <thead>\n",
              "    <tr style=\"text-align: right;\">\n",
              "      <th></th>\n",
              "      <th>uid</th>\n",
              "      <th>region</th>\n",
              "      <th>severity</th>\n",
              "      <th>density</th>\n",
              "    </tr>\n",
              "  </thead>\n",
              "  <tbody>\n",
              "    <tr>\n",
              "      <th>0</th>\n",
              "      <td>aabm</td>\n",
              "      <td>midwest</td>\n",
              "      <td>1</td>\n",
              "      <td>585.0</td>\n",
              "    </tr>\n",
              "    <tr>\n",
              "      <th>1</th>\n",
              "      <td>aacd</td>\n",
              "      <td>south</td>\n",
              "      <td>1</td>\n",
              "      <td>290.0</td>\n",
              "    </tr>\n",
              "    <tr>\n",
              "      <th>2</th>\n",
              "      <td>aaee</td>\n",
              "      <td>south</td>\n",
              "      <td>1</td>\n",
              "      <td>1614.0</td>\n",
              "    </tr>\n",
              "    <tr>\n",
              "      <th>3</th>\n",
              "      <td>aaff</td>\n",
              "      <td>midwest</td>\n",
              "      <td>3</td>\n",
              "      <td>111825.0</td>\n",
              "    </tr>\n",
              "    <tr>\n",
              "      <th>4</th>\n",
              "      <td>aafl</td>\n",
              "      <td>midwest</td>\n",
              "      <td>4</td>\n",
              "      <td>2017313.0</td>\n",
              "    </tr>\n",
              "  </tbody>\n",
              "</table>\n",
              "</div>\n",
              "      <button class=\"colab-df-convert\" onclick=\"convertToInteractive('df-401793f7-0c92-4abf-a5dc-cb8846124437')\"\n",
              "              title=\"Convert this dataframe to an interactive table.\"\n",
              "              style=\"display:none;\">\n",
              "        \n",
              "  <svg xmlns=\"http://www.w3.org/2000/svg\" height=\"24px\"viewBox=\"0 0 24 24\"\n",
              "       width=\"24px\">\n",
              "    <path d=\"M0 0h24v24H0V0z\" fill=\"none\"/>\n",
              "    <path d=\"M18.56 5.44l.94 2.06.94-2.06 2.06-.94-2.06-.94-.94-2.06-.94 2.06-2.06.94zm-11 1L8.5 8.5l.94-2.06 2.06-.94-2.06-.94L8.5 2.5l-.94 2.06-2.06.94zm10 10l.94 2.06.94-2.06 2.06-.94-2.06-.94-.94-2.06-.94 2.06-2.06.94z\"/><path d=\"M17.41 7.96l-1.37-1.37c-.4-.4-.92-.59-1.43-.59-.52 0-1.04.2-1.43.59L10.3 9.45l-7.72 7.72c-.78.78-.78 2.05 0 2.83L4 21.41c.39.39.9.59 1.41.59.51 0 1.02-.2 1.41-.59l7.78-7.78 2.81-2.81c.8-.78.8-2.07 0-2.86zM5.41 20L4 18.59l7.72-7.72 1.47 1.35L5.41 20z\"/>\n",
              "  </svg>\n",
              "      </button>\n",
              "      \n",
              "  <style>\n",
              "    .colab-df-container {\n",
              "      display:flex;\n",
              "      flex-wrap:wrap;\n",
              "      gap: 12px;\n",
              "    }\n",
              "\n",
              "    .colab-df-convert {\n",
              "      background-color: #E8F0FE;\n",
              "      border: none;\n",
              "      border-radius: 50%;\n",
              "      cursor: pointer;\n",
              "      display: none;\n",
              "      fill: #1967D2;\n",
              "      height: 32px;\n",
              "      padding: 0 0 0 0;\n",
              "      width: 32px;\n",
              "    }\n",
              "\n",
              "    .colab-df-convert:hover {\n",
              "      background-color: #E2EBFA;\n",
              "      box-shadow: 0px 1px 2px rgba(60, 64, 67, 0.3), 0px 1px 3px 1px rgba(60, 64, 67, 0.15);\n",
              "      fill: #174EA6;\n",
              "    }\n",
              "\n",
              "    [theme=dark] .colab-df-convert {\n",
              "      background-color: #3B4455;\n",
              "      fill: #D2E3FC;\n",
              "    }\n",
              "\n",
              "    [theme=dark] .colab-df-convert:hover {\n",
              "      background-color: #434B5C;\n",
              "      box-shadow: 0px 1px 3px 1px rgba(0, 0, 0, 0.15);\n",
              "      filter: drop-shadow(0px 1px 2px rgba(0, 0, 0, 0.3));\n",
              "      fill: #FFFFFF;\n",
              "    }\n",
              "  </style>\n",
              "\n",
              "      <script>\n",
              "        const buttonEl =\n",
              "          document.querySelector('#df-401793f7-0c92-4abf-a5dc-cb8846124437 button.colab-df-convert');\n",
              "        buttonEl.style.display =\n",
              "          google.colab.kernel.accessAllowed ? 'block' : 'none';\n",
              "\n",
              "        async function convertToInteractive(key) {\n",
              "          const element = document.querySelector('#df-401793f7-0c92-4abf-a5dc-cb8846124437');\n",
              "          const dataTable =\n",
              "            await google.colab.kernel.invokeFunction('convertToInteractive',\n",
              "                                                     [key], {});\n",
              "          if (!dataTable) return;\n",
              "\n",
              "          const docLinkHtml = 'Like what you see? Visit the ' +\n",
              "            '<a target=\"_blank\" href=https://colab.research.google.com/notebooks/data_table.ipynb>data table notebook</a>'\n",
              "            + ' to learn more about interactive tables.';\n",
              "          element.innerHTML = '';\n",
              "          dataTable['output_type'] = 'display_data';\n",
              "          await google.colab.output.renderOutput(dataTable, element);\n",
              "          const docLink = document.createElement('div');\n",
              "          docLink.innerHTML = docLinkHtml;\n",
              "          element.appendChild(docLink);\n",
              "        }\n",
              "      </script>\n",
              "    </div>\n",
              "  </div>\n",
              "  "
            ]
          },
          "metadata": {}
        },
        {
          "output_type": "execute_result",
          "data": {
            "text/plain": [
              "(17060, 4)"
            ]
          },
          "metadata": {},
          "execution_count": 52
        }
      ]
    },
    {
      "cell_type": "code",
      "source": [
        "train_labels_and_metadata = train_labels.merge(\n",
        "    metadata, how=\"left\", left_on=\"uid\", right_on=\"uid\", validate=\"1:1\"\n",
        ")\n",
        "train_labels_and_metadata"
      ],
      "metadata": {
        "colab": {
          "base_uri": "https://localhost:8080/",
          "height": 423
        },
        "id": "N3aO5fsvTJib",
        "outputId": "228ed447-98e4-46a1-eb65-767bbb656c3a"
      },
      "execution_count": 53,
      "outputs": [
        {
          "output_type": "execute_result",
          "data": {
            "text/plain": [
              "        uid   region  severity    density   latitude  longitude       date  \\\n",
              "0      aabm  midwest         1      585.0  39.080319 -86.430867 2018-05-14   \n",
              "1      aacd    south         1      290.0  35.875083 -78.878434 2020-11-19   \n",
              "2      aaee    south         1     1614.0  35.487000 -79.062133 2016-08-24   \n",
              "3      aaff  midwest         3   111825.0  38.049471 -99.827001 2019-07-23   \n",
              "4      aafl  midwest         4  2017313.0  39.474744 -86.898353 2021-08-23   \n",
              "...     ...      ...       ...        ...        ...        ...        ...   \n",
              "17055  zzsv    south         3   113125.0  38.707825 -75.080867 2018-06-27   \n",
              "17056  zzuq    south         3   175726.0  35.794000 -79.015368 2015-08-06   \n",
              "17057  zzwo  midwest         2    48510.0  39.792190 -99.971050 2017-06-19   \n",
              "17058  zzwq    south         1     1271.0  35.794000 -79.012551 2015-03-24   \n",
              "17059  zzyb    south         1     9682.0  35.742000 -79.238600 2016-11-21   \n",
              "\n",
              "       split  season  \n",
              "0      train  spring  \n",
              "1      train    fall  \n",
              "2      train  summer  \n",
              "3      train  summer  \n",
              "4      train  summer  \n",
              "...      ...     ...  \n",
              "17055  train  summer  \n",
              "17056  train  summer  \n",
              "17057  train  summer  \n",
              "17058  train  spring  \n",
              "17059  train    fall  \n",
              "\n",
              "[17060 rows x 9 columns]"
            ],
            "text/html": [
              "\n",
              "  <div id=\"df-5c32139d-7494-45f5-82ed-aaa5fdf6c41d\">\n",
              "    <div class=\"colab-df-container\">\n",
              "      <div>\n",
              "<style scoped>\n",
              "    .dataframe tbody tr th:only-of-type {\n",
              "        vertical-align: middle;\n",
              "    }\n",
              "\n",
              "    .dataframe tbody tr th {\n",
              "        vertical-align: top;\n",
              "    }\n",
              "\n",
              "    .dataframe thead th {\n",
              "        text-align: right;\n",
              "    }\n",
              "</style>\n",
              "<table border=\"1\" class=\"dataframe\">\n",
              "  <thead>\n",
              "    <tr style=\"text-align: right;\">\n",
              "      <th></th>\n",
              "      <th>uid</th>\n",
              "      <th>region</th>\n",
              "      <th>severity</th>\n",
              "      <th>density</th>\n",
              "      <th>latitude</th>\n",
              "      <th>longitude</th>\n",
              "      <th>date</th>\n",
              "      <th>split</th>\n",
              "      <th>season</th>\n",
              "    </tr>\n",
              "  </thead>\n",
              "  <tbody>\n",
              "    <tr>\n",
              "      <th>0</th>\n",
              "      <td>aabm</td>\n",
              "      <td>midwest</td>\n",
              "      <td>1</td>\n",
              "      <td>585.0</td>\n",
              "      <td>39.080319</td>\n",
              "      <td>-86.430867</td>\n",
              "      <td>2018-05-14</td>\n",
              "      <td>train</td>\n",
              "      <td>spring</td>\n",
              "    </tr>\n",
              "    <tr>\n",
              "      <th>1</th>\n",
              "      <td>aacd</td>\n",
              "      <td>south</td>\n",
              "      <td>1</td>\n",
              "      <td>290.0</td>\n",
              "      <td>35.875083</td>\n",
              "      <td>-78.878434</td>\n",
              "      <td>2020-11-19</td>\n",
              "      <td>train</td>\n",
              "      <td>fall</td>\n",
              "    </tr>\n",
              "    <tr>\n",
              "      <th>2</th>\n",
              "      <td>aaee</td>\n",
              "      <td>south</td>\n",
              "      <td>1</td>\n",
              "      <td>1614.0</td>\n",
              "      <td>35.487000</td>\n",
              "      <td>-79.062133</td>\n",
              "      <td>2016-08-24</td>\n",
              "      <td>train</td>\n",
              "      <td>summer</td>\n",
              "    </tr>\n",
              "    <tr>\n",
              "      <th>3</th>\n",
              "      <td>aaff</td>\n",
              "      <td>midwest</td>\n",
              "      <td>3</td>\n",
              "      <td>111825.0</td>\n",
              "      <td>38.049471</td>\n",
              "      <td>-99.827001</td>\n",
              "      <td>2019-07-23</td>\n",
              "      <td>train</td>\n",
              "      <td>summer</td>\n",
              "    </tr>\n",
              "    <tr>\n",
              "      <th>4</th>\n",
              "      <td>aafl</td>\n",
              "      <td>midwest</td>\n",
              "      <td>4</td>\n",
              "      <td>2017313.0</td>\n",
              "      <td>39.474744</td>\n",
              "      <td>-86.898353</td>\n",
              "      <td>2021-08-23</td>\n",
              "      <td>train</td>\n",
              "      <td>summer</td>\n",
              "    </tr>\n",
              "    <tr>\n",
              "      <th>...</th>\n",
              "      <td>...</td>\n",
              "      <td>...</td>\n",
              "      <td>...</td>\n",
              "      <td>...</td>\n",
              "      <td>...</td>\n",
              "      <td>...</td>\n",
              "      <td>...</td>\n",
              "      <td>...</td>\n",
              "      <td>...</td>\n",
              "    </tr>\n",
              "    <tr>\n",
              "      <th>17055</th>\n",
              "      <td>zzsv</td>\n",
              "      <td>south</td>\n",
              "      <td>3</td>\n",
              "      <td>113125.0</td>\n",
              "      <td>38.707825</td>\n",
              "      <td>-75.080867</td>\n",
              "      <td>2018-06-27</td>\n",
              "      <td>train</td>\n",
              "      <td>summer</td>\n",
              "    </tr>\n",
              "    <tr>\n",
              "      <th>17056</th>\n",
              "      <td>zzuq</td>\n",
              "      <td>south</td>\n",
              "      <td>3</td>\n",
              "      <td>175726.0</td>\n",
              "      <td>35.794000</td>\n",
              "      <td>-79.015368</td>\n",
              "      <td>2015-08-06</td>\n",
              "      <td>train</td>\n",
              "      <td>summer</td>\n",
              "    </tr>\n",
              "    <tr>\n",
              "      <th>17057</th>\n",
              "      <td>zzwo</td>\n",
              "      <td>midwest</td>\n",
              "      <td>2</td>\n",
              "      <td>48510.0</td>\n",
              "      <td>39.792190</td>\n",
              "      <td>-99.971050</td>\n",
              "      <td>2017-06-19</td>\n",
              "      <td>train</td>\n",
              "      <td>summer</td>\n",
              "    </tr>\n",
              "    <tr>\n",
              "      <th>17058</th>\n",
              "      <td>zzwq</td>\n",
              "      <td>south</td>\n",
              "      <td>1</td>\n",
              "      <td>1271.0</td>\n",
              "      <td>35.794000</td>\n",
              "      <td>-79.012551</td>\n",
              "      <td>2015-03-24</td>\n",
              "      <td>train</td>\n",
              "      <td>spring</td>\n",
              "    </tr>\n",
              "    <tr>\n",
              "      <th>17059</th>\n",
              "      <td>zzyb</td>\n",
              "      <td>south</td>\n",
              "      <td>1</td>\n",
              "      <td>9682.0</td>\n",
              "      <td>35.742000</td>\n",
              "      <td>-79.238600</td>\n",
              "      <td>2016-11-21</td>\n",
              "      <td>train</td>\n",
              "      <td>fall</td>\n",
              "    </tr>\n",
              "  </tbody>\n",
              "</table>\n",
              "<p>17060 rows × 9 columns</p>\n",
              "</div>\n",
              "      <button class=\"colab-df-convert\" onclick=\"convertToInteractive('df-5c32139d-7494-45f5-82ed-aaa5fdf6c41d')\"\n",
              "              title=\"Convert this dataframe to an interactive table.\"\n",
              "              style=\"display:none;\">\n",
              "        \n",
              "  <svg xmlns=\"http://www.w3.org/2000/svg\" height=\"24px\"viewBox=\"0 0 24 24\"\n",
              "       width=\"24px\">\n",
              "    <path d=\"M0 0h24v24H0V0z\" fill=\"none\"/>\n",
              "    <path d=\"M18.56 5.44l.94 2.06.94-2.06 2.06-.94-2.06-.94-.94-2.06-.94 2.06-2.06.94zm-11 1L8.5 8.5l.94-2.06 2.06-.94-2.06-.94L8.5 2.5l-.94 2.06-2.06.94zm10 10l.94 2.06.94-2.06 2.06-.94-2.06-.94-.94-2.06-.94 2.06-2.06.94z\"/><path d=\"M17.41 7.96l-1.37-1.37c-.4-.4-.92-.59-1.43-.59-.52 0-1.04.2-1.43.59L10.3 9.45l-7.72 7.72c-.78.78-.78 2.05 0 2.83L4 21.41c.39.39.9.59 1.41.59.51 0 1.02-.2 1.41-.59l7.78-7.78 2.81-2.81c.8-.78.8-2.07 0-2.86zM5.41 20L4 18.59l7.72-7.72 1.47 1.35L5.41 20z\"/>\n",
              "  </svg>\n",
              "      </button>\n",
              "      \n",
              "  <style>\n",
              "    .colab-df-container {\n",
              "      display:flex;\n",
              "      flex-wrap:wrap;\n",
              "      gap: 12px;\n",
              "    }\n",
              "\n",
              "    .colab-df-convert {\n",
              "      background-color: #E8F0FE;\n",
              "      border: none;\n",
              "      border-radius: 50%;\n",
              "      cursor: pointer;\n",
              "      display: none;\n",
              "      fill: #1967D2;\n",
              "      height: 32px;\n",
              "      padding: 0 0 0 0;\n",
              "      width: 32px;\n",
              "    }\n",
              "\n",
              "    .colab-df-convert:hover {\n",
              "      background-color: #E2EBFA;\n",
              "      box-shadow: 0px 1px 2px rgba(60, 64, 67, 0.3), 0px 1px 3px 1px rgba(60, 64, 67, 0.15);\n",
              "      fill: #174EA6;\n",
              "    }\n",
              "\n",
              "    [theme=dark] .colab-df-convert {\n",
              "      background-color: #3B4455;\n",
              "      fill: #D2E3FC;\n",
              "    }\n",
              "\n",
              "    [theme=dark] .colab-df-convert:hover {\n",
              "      background-color: #434B5C;\n",
              "      box-shadow: 0px 1px 3px 1px rgba(0, 0, 0, 0.15);\n",
              "      filter: drop-shadow(0px 1px 2px rgba(0, 0, 0, 0.3));\n",
              "      fill: #FFFFFF;\n",
              "    }\n",
              "  </style>\n",
              "\n",
              "      <script>\n",
              "        const buttonEl =\n",
              "          document.querySelector('#df-5c32139d-7494-45f5-82ed-aaa5fdf6c41d button.colab-df-convert');\n",
              "        buttonEl.style.display =\n",
              "          google.colab.kernel.accessAllowed ? 'block' : 'none';\n",
              "\n",
              "        async function convertToInteractive(key) {\n",
              "          const element = document.querySelector('#df-5c32139d-7494-45f5-82ed-aaa5fdf6c41d');\n",
              "          const dataTable =\n",
              "            await google.colab.kernel.invokeFunction('convertToInteractive',\n",
              "                                                     [key], {});\n",
              "          if (!dataTable) return;\n",
              "\n",
              "          const docLinkHtml = 'Like what you see? Visit the ' +\n",
              "            '<a target=\"_blank\" href=https://colab.research.google.com/notebooks/data_table.ipynb>data table notebook</a>'\n",
              "            + ' to learn more about interactive tables.';\n",
              "          element.innerHTML = '';\n",
              "          dataTable['output_type'] = 'display_data';\n",
              "          await google.colab.output.renderOutput(dataTable, element);\n",
              "          const docLink = document.createElement('div');\n",
              "          docLink.innerHTML = docLinkHtml;\n",
              "          element.appendChild(docLink);\n",
              "        }\n",
              "      </script>\n",
              "    </div>\n",
              "  </div>\n",
              "  "
            ]
          },
          "metadata": {},
          "execution_count": 53
        }
      ]
    },
    {
      "cell_type": "code",
      "source": [
        "severity_counts = (\n",
        "    train_labels.replace(\n",
        "        {\n",
        "            \"severity\": {\n",
        "                1: \"1 (<20,000)\",\n",
        "                2: \"2 (20,000-100,000)\",\n",
        "                3: \"3 (100,000 - 1,000,000)\",\n",
        "                4: \"4 (1,00,000 - 10,000,000)\",\n",
        "                5: \"5 (>10,000,00)\",\n",
        "            }\n",
        "        }\n",
        "    )\n",
        "    .severity.value_counts()\n",
        "    .sort_index(ascending=False)\n",
        ")\n",
        "plt.barh(severity_counts.index, severity_counts.values)\n",
        "plt.xlabel(\"Number of samples\")\n",
        "plt.ylabel(\"Severity (range in cells/mL)\")\n",
        "plt.title(\"Train labels severity level counts\")"
      ],
      "metadata": {
        "colab": {
          "base_uri": "https://localhost:8080/",
          "height": 312
        },
        "id": "zyPYbbg-xpn9",
        "outputId": "b0e5ff76-27a7-4097-eba1-b80d5bc35684"
      },
      "execution_count": 54,
      "outputs": [
        {
          "output_type": "execute_result",
          "data": {
            "text/plain": [
              "Text(0.5, 1.0, 'Train labels severity level counts')"
            ]
          },
          "metadata": {},
          "execution_count": 54
        },
        {
          "output_type": "display_data",
          "data": {
            "text/plain": [
              "<Figure size 432x288 with 1 Axes>"
            ],
            "image/png": "[encoded data removed]"
          },
          "metadata": {
            "needs_background": "light"
          }
        }
      ]
    },
    {
      "cell_type": "code",
      "source": [
        "train_labels.density.describe()"
      ],
      "metadata": {
        "colab": {
          "base_uri": "https://localhost:8080/"
        },
        "id": "-sMXy6hZylJl",
        "outputId": "2603a777-4631-42ee-c159-6f886d65f7ef"
      },
      "execution_count": 55,
      "outputs": [
        {
          "output_type": "execute_result",
          "data": {
            "text/plain": [
              "count    1.706000e+04\n",
              "mean     1.074537e+06\n",
              "std      6.836693e+06\n",
              "min      0.000000e+00\n",
              "25%      4.066000e+03\n",
              "50%      3.270975e+04\n",
              "75%      4.849192e+05\n",
              "max      8.046675e+08\n",
              "Name: density, dtype: float64"
            ]
          },
          "metadata": {},
          "execution_count": 55
        }
      ]
    },
    {
      "cell_type": "markdown",
      "source": [
        "# Process Feature Data"
      ],
      "metadata": {
        "id": "hw8lDwAp7OKA"
      }
    },
    {
      "cell_type": "markdown",
      "source": [
        "Feature data is not provided directly. Instead, access to all feature data can only be done through **external, publicly available APIs**. Relevant imagery can be identified using the location and date of each sample, listed in metadata.csv.\n",
        "\n",
        "Pull in matching satellite imagery will be done using Microsoft's Planetary Computer. Use only **Sentinel-2 L2A** and **Landsat Level-2** satellite imagery. Sentinel-2 L1C and Landsat Level-1 imagery are also allowed."
      ],
      "metadata": {
        "id": "59ThW_eF7Ruv"
      }
    },
    {
      "cell_type": "code",
      "source": [
        "# Establish a connection to the STAC API\n",
        "\n",
        "catalog = Client.open(\n",
        "    \"https://planetarycomputer.microsoft.com/api/stac/v1\", modifier=pc.sign_inplace\n",
        ")"
      ],
      "metadata": {
        "id": "B1CDgsYFynzA"
      },
      "execution_count": 56,
      "outputs": []
    },
    {
      "cell_type": "code",
      "source": [
        "import geopy.distance as distance\n",
        "import rioxarray\n",
        "from IPython.display import Image\n",
        "from PIL import Image as PILImage\n",
        "import planetary_computer as pc\n",
        "from pystac_client import Client"
      ],
      "metadata": {
        "id": "roWBaneVeKLb"
      },
      "execution_count": 58,
      "outputs": []
    },
    {
      "cell_type": "markdown",
      "source": [
        "##Location range: \n",
        "search an area with 50,000 meters on either side of our sample point (100,000 m x 100,000 m), to make sure we're pulling in all relevant imagery. This is just a starting point, and you can improve on how to best search for the correct location in the Planetary Computer."
      ],
      "metadata": {
        "id": "t1FHDwxUeSBu"
      }
    },
    {
      "cell_type": "markdown",
      "source": [
        "##Time range: \n",
        "We want our feature data to be as close to the time of the sample as possible, because in algal blooms in small water bodies form and move very rapidly. Remember, you cannot use any data collected after the date of the sample.\n",
        "\n",
        "Imagery taken with roughly 10 days of the sample will generally still be an accurate representation of environmental conditions at the time of the sample. For some data points you may not be able to get data within 10 days, and may have to use earlier data. We'll search the fifteen days up to the sample time, including the sample date."
      ],
      "metadata": {
        "id": "AUHaY9ikgYOr"
      }
    },
    {
      "cell_type": "markdown",
      "source": [
        "##Select one image\n",
        "The planetary computer returned 46 different items! Let's look at some of the details of the items that were found to match our label."
      ],
      "metadata": {
        "id": "TGC5Xqa_h5L-"
      }
    },
    {
      "cell_type": "markdown",
      "source": [
        "To keep things simple, we'll just choose one image to input into our model. Keep in mind that it is possible to incorporate multiple images!\n",
        "\n",
        "We'll narrow to one image in two steps:\n",
        "\n",
        "- If any Sentinel imagery is available, filter to only Sentinel imagery. Sentinel-2 is higher resolution than Landsat, which is extremely helpful for blooms in small water bodies. In this case, two images are from Sentinel and contain the actual sample location.\n",
        "- Select the item that is the closest time wise to the sampling date. This gives us a Sentinel-2A item that was captured on 10/20/2022 - two days before our sample was collected on 10/22.\n",
        "\n",
        "This is a very simple way to choose the best image. "
      ],
      "metadata": {
        "id": "d-FIC6Ynim3Z"
      }
    },
    {
      "cell_type": "markdown",
      "source": [
        "#Functions to sort and get imagery"
      ],
      "metadata": {
        "id": "QEGgRNHLjgaF"
      }
    },
    {
      "cell_type": "markdown",
      "source": [
        "Be aware that querying the Planetary Computer for all of the images is going to take a LONG time! You'll want to find ways to both save work as you go, and optimize your code for efficiency.\n",
        "\n",
        "We'll save out the processed features for each image as we go, to make sure we only have to run time-intensive parts of our code once.\n",
        "\n",
        "For time, here we'll train on a randomly selected small subset of the training data. The cell below is highly time intensive, because for each row in the data we have to query the planetary computer catalog and process imagery.\n",
        "\n",
        "We'll still include and predict on all of the test data."
      ],
      "metadata": {
        "id": "OVJLYQFznbmD"
      }
    },
    {
      "cell_type": "code",
      "source": [
        "def select_best_item(items, date, latitude, longitude):\n",
        "    \"\"\"\n",
        "    Select the best satellite item given a sample's date, latitude, and longitude.\n",
        "    If any Sentinel-2 imagery is available, returns the closest sentinel-2 image by\n",
        "    time. Otherwise, returns the closest Landsat imagery.\n",
        "\n",
        "    Returns a tuple of (STAC item, item platform name, item date)\n",
        "    \"\"\"\n",
        "    # get item details\n",
        "    item_details = pd.DataFrame(\n",
        "        [\n",
        "            {\n",
        "                \"datetime\": item.datetime.strftime(\"%Y-%m-%d\"),\n",
        "                \"platform\": item.properties[\"platform\"],\n",
        "                \"min_long\": item.bbox[0],\n",
        "                \"max_long\": item.bbox[2],\n",
        "                \"min_lat\": item.bbox[1],\n",
        "                \"max_lat\": item.bbox[3],\n",
        "                \"item_obj\": item,\n",
        "            }\n",
        "            for item in items\n",
        "        ]\n",
        "    )\n",
        "\n",
        "    # filter to items that contain the point location, or return None if none contain the point\n",
        "    item_details[\"contains_sample_point\"] = (\n",
        "        (item_details.min_lat < latitude)\n",
        "        & (item_details.max_lat > latitude)\n",
        "        & (item_details.min_long < longitude)\n",
        "        & (item_details.max_long > longitude)\n",
        "    )\n",
        "    item_details = item_details[item_details[\"contains_sample_point\"] == True]\n",
        "    if len(item_details) == 0:\n",
        "        return (np.nan, np.nan, np.nan)\n",
        "\n",
        "    # add time difference between each item and the sample\n",
        "    item_details[\"time_diff\"] = pd.to_datetime(date) - pd.to_datetime(\n",
        "        item_details[\"datetime\"]\n",
        "    )\n",
        "\n",
        "    # if we have sentinel-2, filter to sentinel-2 images only\n",
        "    item_details[\"sentinel\"] = item_details.platform.str.lower().str.contains(\n",
        "        \"sentinel\"\n",
        "    )\n",
        "    if item_details[\"sentinel\"].any():\n",
        "        item_details = item_details[item_details[\"sentinel\"] == True]\n",
        "\n",
        "    # return the closest imagery by time\n",
        "    best_item = item_details.sort_values(by=\"time_diff\", ascending=True).iloc[0]\n",
        "\n",
        "    return (best_item[\"item_obj\"], best_item[\"platform\"], best_item[\"datetime\"])\n",
        "\n",
        "\n",
        "def image_to_features(image_array):\n",
        "    \"\"\"\n",
        "    Convert an image array of the form (color band, height, width) to a\n",
        "    1-dimensional list of features. Returns a list where the first three\n",
        "    values are the averages of each color band, and the second three\n",
        "    values are the medians of each color band.\n",
        "    \"\"\"\n",
        "    averages = image_array.mean(axis=(1, 2)).tolist()\n",
        "    medians = np.median(image_array, axis=(1, 2)).tolist()\n",
        "\n",
        "    return averages + medians"
      ],
      "metadata": {
        "id": "Lt8kdhH-jmgZ"
      },
      "execution_count": 88,
      "outputs": []
    },
    {
      "cell_type": "code",
      "source": [
        "BENCHMARK_DATA_DIR = DATA_DIR.parents[1] / \"benchmark\"\n",
        "\n",
        "# save image arrays in case we want to generate more features\n",
        "IMAGE_ARRAY_DIR = BENCHMARK_DATA_DIR / \"image_arrays\"\n",
        "IMAGE_ARRAY_DIR.mkdir(exist_ok=True, parents=True)\n",
        "# take a random subset of the training data for the benchmark\n",
        "train_subset = metadata[metadata[\"split\"] == \"train\"].sample(n=2500, random_state=2)\n",
        "\n",
        "# combine train subset with all test data\n",
        "metadata_subset = pd.concat([train_subset, metadata[metadata[\"split\"] == \"test\"]])\n",
        "metadata_subset.split.value_counts(dropna=False)"
      ],
      "metadata": {
        "id": "wqfg6j1sm4-C"
      },
      "execution_count": null,
      "outputs": []
    },
    {
      "cell_type": "code",
      "source": [
        "# this cell takes a LONG time because it iterates over all data!\n",
        "\n",
        "# save outputs in dictionaries\n",
        "selected_items = {}\n",
        "features_dict = {}\n",
        "errored_ids = []\n",
        "\n",
        "\n",
        "for row in tqdm(metadata_subset.itertuples(), total=len(metadata_subset)):\n",
        "    pass\n",
        "    # check if we've already saved the selected image array\n",
        "    image_array_pth = IMAGE_ARRAY_DIR / f\"{row.uid}.npy\"\n",
        "\n",
        "    if image_array_pth.exists():\n",
        "        with open(image_array_pth, \"rb\") as f:\n",
        "            image_array = np.load(f)\n",
        "\n",
        "        # convert image to 1-dimensional features\n",
        "        image_features = image_to_features(image_array)\n",
        "        features_dict[row.uid] = image_features\n",
        "\n",
        "    # search and load the image array if not\n",
        "    else:\n",
        "        try:\n",
        "            ## QUERY STAC API\n",
        "            # get query ranges for location and date\n",
        "            search_bbox = get_bounding_box(\n",
        "                row.latitude, row.longitude, meter_buffer=50000\n",
        "            )\n",
        "            date_range = get_date_range(row.date, time_buffer_days=15)\n",
        "\n",
        "            # search the planetary computer\n",
        "            search = catalog.search(\n",
        "                collections=[\"sentinel-2-l2a\", \"landsat-c2-l2\"],\n",
        "                bbox=search_bbox,\n",
        "                datetime=date_range,\n",
        "            )\n",
        "            items = [item for item in search.get_all_items()]\n",
        "\n",
        "            ## GET BEST IMAGE\n",
        "            if len(items) == 0:\n",
        "                pass\n",
        "            else:\n",
        "                best_item, item_platform, item_date = select_best_item(\n",
        "                    items, row.date, row.latitude, row.longitude\n",
        "                )\n",
        "                # add to dictionary tracking best items\n",
        "                selected_items[row.uid] = {\n",
        "                    \"item_object\": best_item,\n",
        "                    \"item_platform\": item_platform,\n",
        "                    \"item_date\": item_date,\n",
        "                }\n",
        "\n",
        "            ## CONVERT TO FEATURES\n",
        "            # get small bbox just for features\n",
        "            feature_bbox = get_bounding_box(\n",
        "                row.latitude, row.longitude, meter_buffer=100\n",
        "            )\n",
        "\n",
        "            # crop the image\n",
        "            if \"sentinel\" in item_platform.lower():\n",
        "                image_array = crop_sentinel_image(best_item, feature_bbox)\n",
        "            else:\n",
        "                image_array = crop_landsat_image(best_item, feature_bbox)\n",
        "\n",
        "            # save image array so we don't have to rerun\n",
        "            with open(image_array_pth, \"wb\") as f:\n",
        "                np.save(f, image_array)\n",
        "\n",
        "            # convert image to 1-dimensional features\n",
        "            image_features = image_to_features(image_array)\n",
        "            features_dict[row.uid] = image_features\n",
        "\n",
        "        # keep track of any that ran into errors without interrupting the process\n",
        "        except:\n",
        "            errored_ids.append(row.uid)"
      ],
      "metadata": {
        "id": "To46OOVlnBUp"
      },
      "execution_count": null,
      "outputs": []
    }
  ]
}